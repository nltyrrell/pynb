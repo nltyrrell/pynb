{
 "cells": [
  {
   "cell_type": "markdown",
   "metadata": {},
   "source": [
    "# Wednesday Beers"
   ]
  },
  {
   "cell_type": "code",
   "execution_count": 1,
   "metadata": {},
   "outputs": [],
   "source": [
    "import numpy as np\n",
    "import random\n",
    "from IPython.display import Markdown, display, HTML\n",
    "import datetime as dt\n",
    "import calendar"
   ]
  },
  {
   "cell_type": "code",
   "execution_count": 2,
   "metadata": {},
   "outputs": [],
   "source": [
    "def selet_random_bar(bar_list):\n",
    "    bar_index = random.randint(0,len(bar_list)-1)\n",
    "    bar = bar_list[bar_index]\n",
    "    bars_left = bar_list.copy()\n",
    "    bars_left.remove(bar)\n",
    "    #print(bar_list)\n",
    "    return bar, bars_left\n",
    "def suffix(d):\n",
    "    return 'th' if 11<=d<=13 else {1:'st',2:'nd',3:'rd'}.get(d%10, 'th')\n",
    "def custom_strftime(format, t):\n",
    "    return t.strftime(format).replace('{S}', str(t.day) + suffix(t.day))\n"
   ]
  },
  {
   "cell_type": "code",
   "execution_count": 3,
   "metadata": {},
   "outputs": [
    {
     "data": {
      "text/html": [
       "<font size=20><br>Original Bar List<br></font><br>"
      ],
      "text/plain": [
       "<IPython.core.display.HTML object>"
      ]
     },
     "metadata": {},
     "output_type": "display_data"
    },
    {
     "data": {
      "text/html": [
       "<font size=6>Sivukirjasto<br></font>"
      ],
      "text/plain": [
       "<IPython.core.display.HTML object>"
      ]
     },
     "metadata": {},
     "output_type": "display_data"
    },
    {
     "data": {
      "text/html": [
       "<font size=6>Stadin Panimo<br></font>"
      ],
      "text/plain": [
       "<IPython.core.display.HTML object>"
      ]
     },
     "metadata": {},
     "output_type": "display_data"
    },
    {
     "data": {
      "text/html": [
       "<font size=6>Platito<br></font>"
      ],
      "text/plain": [
       "<IPython.core.display.HTML object>"
      ]
     },
     "metadata": {},
     "output_type": "display_data"
    },
    {
     "data": {
      "text/html": [
       "<font size=6>Pikku-Vallila<br></font>"
      ],
      "text/plain": [
       "<IPython.core.display.HTML object>"
      ]
     },
     "metadata": {},
     "output_type": "display_data"
    },
    {
     "data": {
      "text/html": [
       "<font size=6>Iltakoulu<br></font>"
      ],
      "text/plain": [
       "<IPython.core.display.HTML object>"
      ]
     },
     "metadata": {},
     "output_type": "display_data"
    },
    {
     "data": {
      "text/html": [
       "<font size=6>Musta Kissa<br></font>"
      ],
      "text/plain": [
       "<IPython.core.display.HTML object>"
      ]
     },
     "metadata": {},
     "output_type": "display_data"
    },
    {
     "data": {
      "text/html": [
       "<font size=6>Onda<br></font>"
      ],
      "text/plain": [
       "<IPython.core.display.HTML object>"
      ]
     },
     "metadata": {},
     "output_type": "display_data"
    },
    {
     "data": {
      "text/html": [
       "<font size=6>Tenho<br></font>"
      ],
      "text/plain": [
       "<IPython.core.display.HTML object>"
      ]
     },
     "metadata": {},
     "output_type": "display_data"
    },
    {
     "data": {
      "text/html": [
       "<font size=6>Solmu<br></font>"
      ],
      "text/plain": [
       "<IPython.core.display.HTML object>"
      ]
     },
     "metadata": {},
     "output_type": "display_data"
    }
   ],
   "source": [
    "bar_list = ['Sivukirjasto','Stadin Panimo',\n",
    "            'Platito','Pikku-Vallila']\n",
    "bars_past = ['Iltakoulu','Musta Kissa','Onda','Tenho','Solmu']\n",
    "wed_dates = [dt.datetime(2019,2,20),dt.datetime(2019,3,20),dt.datetime(2019,4,17),\n",
    "             dt.datetime(2019,5,15),dt.datetime(2019,6,19),dt.datetime(2019,7,17),\n",
    "             dt.datetime(2019,8,21),dt.datetime(2019,9,18),dt.datetime(2019,10,16),\n",
    "             dt.datetime(2019,11,20),dt.datetime(2019,12,18),dt.datetime(2020,1,15),\n",
    "             dt.datetime(2019,2,19),dt.datetime(2020,3,18),dt.datetime(2020,4,15)]\n",
    "\n",
    "display(HTML(\"<font size=20><br>Original Bar List<br></font><br>\"))\n",
    "\n",
    "for i in bar_list:\n",
    "    display(HTML(f\"<font size=6>{i}<br></font>\"))\n",
    "for i in bars_past:\n",
    "    display(HTML(f\"<font size=6>{i}<br></font>\"))"
   ]
  },
  {
   "cell_type": "markdown",
   "metadata": {},
   "source": [
    "# Randomly select next bar"
   ]
  },
  {
   "cell_type": "code",
   "execution_count": 5,
   "metadata": {
    "scrolled": false
   },
   "outputs": [
    {
     "data": {
      "text/html": [
       "<font size=8><br>Next Beers:</font>"
      ],
      "text/plain": [
       "<IPython.core.display.HTML object>"
      ]
     },
     "metadata": {},
     "output_type": "display_data"
    },
    {
     "data": {
      "text/html": [
       "<font size=8, color='#0b7202'>15th May, 2019<br><br></font>"
      ],
      "text/plain": [
       "<IPython.core.display.HTML object>"
      ]
     },
     "metadata": {},
     "output_type": "display_data"
    },
    {
     "data": {
      "text/html": [
       "<font size=8>Next Bar:</font>"
      ],
      "text/plain": [
       "<IPython.core.display.HTML object>"
      ]
     },
     "metadata": {},
     "output_type": "display_data"
    },
    {
     "data": {
      "text/html": [
       "<font size=8, color='#0b7202'>Tenho<br><br></font>"
      ],
      "text/plain": [
       "<IPython.core.display.HTML object>"
      ]
     },
     "metadata": {},
     "output_type": "display_data"
    },
    {
     "data": {
      "text/html": [
       "<font size=6>Bars Past<br></font>"
      ],
      "text/plain": [
       "<IPython.core.display.HTML object>"
      ]
     },
     "metadata": {},
     "output_type": "display_data"
    },
    {
     "data": {
      "text/html": [
       "<font size=5, color=grey>Iltakoulu<br></font>"
      ],
      "text/plain": [
       "<IPython.core.display.HTML object>"
      ]
     },
     "metadata": {},
     "output_type": "display_data"
    },
    {
     "data": {
      "text/html": [
       "<font size=5, color=grey>Musta Kissa<br></font>"
      ],
      "text/plain": [
       "<IPython.core.display.HTML object>"
      ]
     },
     "metadata": {},
     "output_type": "display_data"
    },
    {
     "data": {
      "text/html": [
       "<font size=5, color=grey>Onda<br></font>"
      ],
      "text/plain": [
       "<IPython.core.display.HTML object>"
      ]
     },
     "metadata": {},
     "output_type": "display_data"
    },
    {
     "data": {
      "text/html": [
       "<font size=6>Bars Future<br></font>"
      ],
      "text/plain": [
       "<IPython.core.display.HTML object>"
      ]
     },
     "metadata": {},
     "output_type": "display_data"
    },
    {
     "data": {
      "text/html": [
       "<font size=5, color=grey>Sivukirjasto<br></font>"
      ],
      "text/plain": [
       "<IPython.core.display.HTML object>"
      ]
     },
     "metadata": {},
     "output_type": "display_data"
    },
    {
     "data": {
      "text/html": [
       "<font size=5, color=grey>Solmu Vaasankatu<br></font>"
      ],
      "text/plain": [
       "<IPython.core.display.HTML object>"
      ]
     },
     "metadata": {},
     "output_type": "display_data"
    },
    {
     "data": {
      "text/html": [
       "<font size=5, color=grey>Stadin Panimo<br></font>"
      ],
      "text/plain": [
       "<IPython.core.display.HTML object>"
      ]
     },
     "metadata": {},
     "output_type": "display_data"
    },
    {
     "data": {
      "text/html": [
       "<font size=5, color=grey>Platito<br></font>"
      ],
      "text/plain": [
       "<IPython.core.display.HTML object>"
      ]
     },
     "metadata": {},
     "output_type": "display_data"
    },
    {
     "data": {
      "text/html": [
       "<font size=5, color=grey>Pikku-Vallila<br></font>"
      ],
      "text/plain": [
       "<IPython.core.display.HTML object>"
      ]
     },
     "metadata": {},
     "output_type": "display_data"
    }
   ],
   "source": [
    "today = dt.datetime.today()\n",
    "\n",
    "for n, i in enumerate(wed_dates):\n",
    "    if today < i and len(bars_past) == n:\n",
    "        next_date = custom_strftime('{S} %B, %Y', i)\n",
    "        next_bar, bar_list = selet_random_bar(bar_list)\n",
    "        bars_past.append(next_bar)\n",
    "        break\n",
    "    if today < i and len(bars_past) > n:\n",
    "        break\n",
    "\n",
    "display(HTML(f\"<font size=8><br>Next Beers:</font>\"))\n",
    "display(HTML(f\"<font size=8, color='#0b7202'>{next_date}<br><br></font>\"))\n",
    "display(HTML(f\"<font size=8>Next Bar:</font>\"))\n",
    "display(HTML(f\"<font size=8, color='#0b7202'>{next_bar}<br><br></font>\"))\n",
    "    \n",
    "display(HTML(\"<font size=6>Bars Past<br></font>\"))\n",
    "for i in bars_past[0:-1]:\n",
    "    display(HTML(f\"<font size=5, color=grey>{i}<br></font>\"))\n",
    "    \n",
    "display(HTML(\"<font size=6>Bars Future<br></font>\"))\n",
    "for i in bar_list:\n",
    "    display(HTML(f\"<font size=5, color=grey>{i}<br></font>\"))"
   ]
  },
  {
   "cell_type": "code",
   "execution_count": null,
   "metadata": {},
   "outputs": [],
   "source": []
  },
  {
   "cell_type": "code",
   "execution_count": null,
   "metadata": {},
   "outputs": [],
   "source": []
  },
  {
   "cell_type": "markdown",
   "metadata": {},
   "source": [
    "To update git:\n",
    "\n",
    "git commit -am \"msg\"\n",
    "\n",
    "git push origin master\n"
   ]
  }
 ],
 "metadata": {
  "kernelspec": {
   "display_name": "Python 3",
   "language": "python",
   "name": "python3"
  },
  "language_info": {
   "codemirror_mode": {
    "name": "ipython",
    "version": 3
   },
   "file_extension": ".py",
   "mimetype": "text/x-python",
   "name": "python",
   "nbconvert_exporter": "python",
   "pygments_lexer": "ipython3",
   "version": "3.6.8"
  }
 },
 "nbformat": 4,
 "nbformat_minor": 1
}
